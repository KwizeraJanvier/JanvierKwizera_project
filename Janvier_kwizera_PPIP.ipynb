{
 "cells": [
  {
   "cell_type": "markdown",
   "id": "017880c2",
   "metadata": {},
   "source": [
    "#   Building and Evaluating Regression Models.\n",
    "       Author: Janvier KWIZERA\n",
    "       Date: October 2024"
   ]
  },
  {
   "cell_type": "markdown",
   "id": "4900ad65",
   "metadata": {},
   "source": [
    "Overview\n",
    "- Introduction to regression models\n",
    "- Types of regression (Linear, Polynomial, etc.)\n",
    "- Building and evaluating models\n",
    "- Python libraries and tools for regression"
   ]
  },
  {
   "cell_type": "markdown",
   "id": "2752f287",
   "metadata": {},
   "source": [
    "Project Goals\n",
    "- Simulate data for regression analysis\n",
    "- Build regression models (linear and polynomial)"
   ]
  },
  {
   "cell_type": "markdown",
   "id": "d56e021c",
   "metadata": {},
   "source": [
    "What is Regression?\n",
    "- Regression analysis is a statistical method for estimating relationships between dependent and independent variables.\n",
    "- Linear Regression: Models the linear relationship between variables.\n",
    "- Polynomial Regression: Extends linear regression by including higher-degree terms."
   ]
  },
  {
   "cell_type": "markdown",
   "id": "fe553912",
   "metadata": {},
   "source": [
    "# Simple Linear Regression Model\n",
    "\n",
    "In a simple linear regression model, we predict a dependent variable \\( Y \\) based on an independent variable \\( X \\). The relationship can be expressed with the following equation:\n",
    "\n",
    "\n",
    "$Y = \\beta_0 + \\beta_1 X + \\epsilon$\n",
    "\n",
    "Where:\n",
    "- $ Y $ is the dependent variable (the outcome we are trying to predict).\n",
    "- $ X $ is the independent variable (the input feature).\n",
    "- $ \\beta_0 $ is the y-intercept of the regression line.\n",
    "- $ \\beta_1 $ is the slope of the regression line (the change in \\( Y \\) for a one-unit change in \\( X \\)).\n",
    "- $ \\epsilon $ represents the error term (the difference between the observed and predicted values).\n",
    "\n"
   ]
  },
  {
   "cell_type": "markdown",
   "id": "204a46fd",
   "metadata": {},
   "source": [
    "## Interpretation of Regression Coefficients\n",
    "\n",
    "1. **Intercept ( $\\beta_0 $)**:\n",
    "   - The intercept represents the expected value of the dependent variable \\( Y \\) when the independent variable \\( X \\) is equal to zero. \n",
    "   - In this case, $ \\beta_0 $ indicates that when \\( X = 0 \\), the predicted value of \\( Y \\) is approximately $\\beta_0$.\n",
    "\n",
    "2. **Slope $ \\beta_1 $)**:\n",
    "   - The slope represents the change in the dependent variable \\( Y \\) for a one-unit increase in the independent variable \\( X \\).\n",
    "   - A positive $ \\beta_1 $ value indicates that as \\( X \\) increases, \\( Y \\) also tends to increase. \n",
    "   - Specifically, for every one-unit increase in \\( X \\), \\( Y \\) is expected to increase by approximately $\\beta_1$ units.\n"
   ]
  },
  {
   "cell_type": "markdown",
   "id": "a4506825",
   "metadata": {},
   "source": [
    "# Polynomial Regression\n",
    "Polynomial regression extends linear regression by fitting a polynomial equation to the data $y = b0 + b1*X + b2*X^2 + ...$.\n"
   ]
  },
  {
   "cell_type": "markdown",
   "id": "a118842e",
   "metadata": {},
   "source": [
    "# R-squared.\n",
    "R-squared, often written R2, is the proportion of the variance in the response variable that can be explained by the predictor variables in a linear regression model.\n",
    "\n",
    "The value for R-squared can range from 0 to 1 where:\n",
    "- 0 indicates that the response variable cannot be explained by the predictor variable at all.\n",
    "- 1 indicates that the response variable can be perfectly explained without error by the predictor variables."
   ]
  },
  {
   "cell_type": "code",
   "execution_count": 24,
   "id": "f7c24c33",
   "metadata": {},
   "outputs": [],
   "source": [
    "# In this project we are going to considering to Building and Evaluating Simple Linear Regression Model"
   ]
  },
  {
   "cell_type": "code",
   "execution_count": 25,
   "id": "e1985bdf",
   "metadata": {},
   "outputs": [],
   "source": [
    "# Importing the necessary libraries\n",
    "\n",
    "# NumPy is a powerful library for working with arrays and performing numerical computations\n",
    "import numpy as np\n",
    "\n",
    "# Matplotlib is a plotting library used for creating static, animated, and interactive visualizations in Python\n",
    "import matplotlib.pyplot as plt\n",
    "\n",
    "# Scikit-learn (sklearn) is used to import LinearRegression for performing linear regression\n",
    "from sklearn.linear_model import LinearRegression\n"
   ]
  },
  {
   "cell_type": "code",
   "execution_count": 27,
   "id": "00af7078",
   "metadata": {},
   "outputs": [
    {
     "data": {
      "text/html": [
       "<div>\n",
       "<style scoped>\n",
       "    .dataframe tbody tr th:only-of-type {\n",
       "        vertical-align: middle;\n",
       "    }\n",
       "\n",
       "    .dataframe tbody tr th {\n",
       "        vertical-align: top;\n",
       "    }\n",
       "\n",
       "    .dataframe thead th {\n",
       "        text-align: right;\n",
       "    }\n",
       "</style>\n",
       "<table border=\"1\" class=\"dataframe\">\n",
       "  <thead>\n",
       "    <tr style=\"text-align: right;\">\n",
       "      <th></th>\n",
       "      <th>Index</th>\n",
       "      <th>Height(Inches)</th>\n",
       "      <th>Weight(Pounds)</th>\n",
       "    </tr>\n",
       "  </thead>\n",
       "  <tbody>\n",
       "    <tr>\n",
       "      <th>0</th>\n",
       "      <td>1</td>\n",
       "      <td>65.78331</td>\n",
       "      <td>112.9925</td>\n",
       "    </tr>\n",
       "    <tr>\n",
       "      <th>1</th>\n",
       "      <td>2</td>\n",
       "      <td>71.51521</td>\n",
       "      <td>136.4873</td>\n",
       "    </tr>\n",
       "    <tr>\n",
       "      <th>2</th>\n",
       "      <td>3</td>\n",
       "      <td>69.39874</td>\n",
       "      <td>153.0269</td>\n",
       "    </tr>\n",
       "    <tr>\n",
       "      <th>3</th>\n",
       "      <td>4</td>\n",
       "      <td>68.21660</td>\n",
       "      <td>142.3354</td>\n",
       "    </tr>\n",
       "    <tr>\n",
       "      <th>4</th>\n",
       "      <td>5</td>\n",
       "      <td>67.78781</td>\n",
       "      <td>144.2971</td>\n",
       "    </tr>\n",
       "  </tbody>\n",
       "</table>\n",
       "</div>"
      ],
      "text/plain": [
       "   Index  Height(Inches)  Weight(Pounds)\n",
       "0      1        65.78331        112.9925\n",
       "1      2        71.51521        136.4873\n",
       "2      3        69.39874        153.0269\n",
       "3      4        68.21660        142.3354\n",
       "4      5        67.78781        144.2971"
      ]
     },
     "execution_count": 27,
     "metadata": {},
     "output_type": "execute_result"
    }
   ],
   "source": [
    "# Reading the CSV file located at the specified path into a DataFrame called 'df'\n",
    "df = pd.read_csv(\"C:/Users/USER/Downloads/assignment.csv\")\n",
    "\n",
    "# Displaying the first 5 rows of the DataFrame to get an overview of the data\n",
    "df.head()\n"
   ]
  },
  {
   "cell_type": "code",
   "execution_count": 5,
   "id": "5e396392",
   "metadata": {
    "scrolled": true
   },
   "outputs": [
    {
     "data": {
      "text/html": [
       "<div>\n",
       "<style scoped>\n",
       "    .dataframe tbody tr th:only-of-type {\n",
       "        vertical-align: middle;\n",
       "    }\n",
       "\n",
       "    .dataframe tbody tr th {\n",
       "        vertical-align: top;\n",
       "    }\n",
       "\n",
       "    .dataframe thead th {\n",
       "        text-align: right;\n",
       "    }\n",
       "</style>\n",
       "<table border=\"1\" class=\"dataframe\">\n",
       "  <thead>\n",
       "    <tr style=\"text-align: right;\">\n",
       "      <th></th>\n",
       "      <th>Index</th>\n",
       "      <th>Height(Inches)</th>\n",
       "      <th>Weight(Pounds)</th>\n",
       "    </tr>\n",
       "  </thead>\n",
       "  <tbody>\n",
       "    <tr>\n",
       "      <th>count</th>\n",
       "      <td>100.000000</td>\n",
       "      <td>100.000000</td>\n",
       "      <td>100.000000</td>\n",
       "    </tr>\n",
       "    <tr>\n",
       "      <th>mean</th>\n",
       "      <td>50.500000</td>\n",
       "      <td>68.141057</td>\n",
       "      <td>129.209117</td>\n",
       "    </tr>\n",
       "    <tr>\n",
       "      <th>std</th>\n",
       "      <td>29.011492</td>\n",
       "      <td>1.827911</td>\n",
       "      <td>12.120656</td>\n",
       "    </tr>\n",
       "    <tr>\n",
       "      <th>min</th>\n",
       "      <td>1.000000</td>\n",
       "      <td>63.425770</td>\n",
       "      <td>97.901910</td>\n",
       "    </tr>\n",
       "    <tr>\n",
       "      <th>25%</th>\n",
       "      <td>25.750000</td>\n",
       "      <td>66.861580</td>\n",
       "      <td>121.731925</td>\n",
       "    </tr>\n",
       "    <tr>\n",
       "      <th>50%</th>\n",
       "      <td>50.500000</td>\n",
       "      <td>68.218055</td>\n",
       "      <td>129.408000</td>\n",
       "    </tr>\n",
       "    <tr>\n",
       "      <th>75%</th>\n",
       "      <td>75.250000</td>\n",
       "      <td>69.557010</td>\n",
       "      <td>138.821025</td>\n",
       "    </tr>\n",
       "    <tr>\n",
       "      <th>max</th>\n",
       "      <td>100.000000</td>\n",
       "      <td>71.804840</td>\n",
       "      <td>155.898700</td>\n",
       "    </tr>\n",
       "  </tbody>\n",
       "</table>\n",
       "</div>"
      ],
      "text/plain": [
       "            Index  Height(Inches)  Weight(Pounds)\n",
       "count  100.000000      100.000000      100.000000\n",
       "mean    50.500000       68.141057      129.209117\n",
       "std     29.011492        1.827911       12.120656\n",
       "min      1.000000       63.425770       97.901910\n",
       "25%     25.750000       66.861580      121.731925\n",
       "50%     50.500000       68.218055      129.408000\n",
       "75%     75.250000       69.557010      138.821025\n",
       "max    100.000000       71.804840      155.898700"
      ]
     },
     "execution_count": 5,
     "metadata": {},
     "output_type": "execute_result"
    }
   ],
   "source": [
    "df.describe() # Use .describe() to summarize the DataFrame"
   ]
  },
  {
   "cell_type": "code",
   "execution_count": 28,
   "id": "00e7eb32",
   "metadata": {},
   "outputs": [
    {
     "data": {
      "text/plain": [
       "array([[<Axes: title={'center': 'Index'}>,\n",
       "        <Axes: title={'center': 'Height(Inches)'}>],\n",
       "       [<Axes: title={'center': 'Weight(Pounds)'}>, <Axes: >]],\n",
       "      dtype=object)"
      ]
     },
     "execution_count": 28,
     "metadata": {},
     "output_type": "execute_result"
    },
    {
     "data": {
      "image/png": "[encoded data removed]",
      "text/plain": [
       "<Figure size 640x480 with 4 Axes>"
      ]
     },
     "metadata": {},
     "output_type": "display_data"
    }
   ],
   "source": [
    "import matplotlib.pyplot as plt\n",
    "df.hist()# Create histograms for all numerical columns\n"
   ]
  },
  {
   "cell_type": "code",
   "execution_count": 30,
   "id": "c535dd0d",
   "metadata": {},
   "outputs": [
    {
     "data": {
      "text/plain": [
       "Index             0\n",
       "Height(Inches)    0\n",
       "Weight(Pounds)    0\n",
       "dtype: int64"
      ]
     },
     "execution_count": 30,
     "metadata": {},
     "output_type": "execute_result"
    }
   ],
   "source": [
    "df.isna().sum() # Use this function to returns a DataFrame of the same shape as 'df' and chech if there is a missing value"
   ]
  },
  {
   "cell_type": "code",
   "execution_count": 31,
   "id": "fb744d25",
   "metadata": {},
   "outputs": [],
   "source": [
    "# Define the target variable (Height in Inches) to be predicted\n",
    "target = \"Height(Inches)\"\n",
    "\n",
    "# Define the feature(s) (in this case, Weight in Pounds) used for prediction\n",
    "feature = [\"Weight(Pounds)\"]\n",
    "\n",
    "# Extract the feature data (Weight in Pounds) from the dataframe and store it in X_train\n",
    "X_train = df[feature]\n",
    "\n",
    "# Extract the target variable (Height in Inches) from the dataframe and store it in y_train\n",
    "y_train = df[target]\n"
   ]
  },
  {
   "cell_type": "code",
   "execution_count": 9,
   "id": "29302ef2",
   "metadata": {},
   "outputs": [
    {
     "data": {
      "text/plain": [
       "(100,)"
      ]
     },
     "execution_count": 9,
     "metadata": {},
     "output_type": "execute_result"
    }
   ],
   "source": [
    "y_train.shape # returns a tuple representing the dimensions of y_train, number of (rows (samples),columns (features)"
   ]
  },
  {
   "cell_type": "code",
   "execution_count": 10,
   "id": "0f9c3f91",
   "metadata": {},
   "outputs": [
    {
     "data": {
      "text/plain": [
       "(100, 1)"
      ]
     },
     "execution_count": 10,
     "metadata": {},
     "output_type": "execute_result"
    }
   ],
   "source": [
    "X_train.shape"
   ]
  },
  {
   "cell_type": "code",
   "execution_count": 11,
   "id": "690cfcbd",
   "metadata": {},
   "outputs": [
    {
     "data": {
      "text/plain": [
       "68.1410566"
      ]
     },
     "execution_count": 11,
     "metadata": {},
     "output_type": "execute_result"
    }
   ],
   "source": [
    "# baseline \n",
    "y_mean=y_train.mean()\n",
    "y_mean\n"
   ]
  },
  {
   "cell_type": "code",
   "execution_count": 12,
   "id": "9ceaf841",
   "metadata": {
    "scrolled": true
   },
   "outputs": [
    {
     "data": {
      "text/plain": [
       "[68.1410566,\n",
       " 68.1410566,\n",
       " 68.1410566,\n",
       " 68.1410566,\n",
       " 68.1410566,\n",
       " 68.1410566,\n",
       " 68.1410566,\n",
       " 68.1410566,\n",
       " 68.1410566,\n",
       " 68.1410566,\n",
       " 68.1410566,\n",
       " 68.1410566,\n",
       " 68.1410566,\n",
       " 68.1410566,\n",
       " 68.1410566,\n",
       " 68.1410566,\n",
       " 68.1410566,\n",
       " 68.1410566,\n",
       " 68.1410566,\n",
       " 68.1410566,\n",
       " 68.1410566,\n",
       " 68.1410566,\n",
       " 68.1410566,\n",
       " 68.1410566,\n",
       " 68.1410566,\n",
       " 68.1410566,\n",
       " 68.1410566,\n",
       " 68.1410566,\n",
       " 68.1410566,\n",
       " 68.1410566,\n",
       " 68.1410566,\n",
       " 68.1410566,\n",
       " 68.1410566,\n",
       " 68.1410566,\n",
       " 68.1410566,\n",
       " 68.1410566,\n",
       " 68.1410566,\n",
       " 68.1410566,\n",
       " 68.1410566,\n",
       " 68.1410566,\n",
       " 68.1410566,\n",
       " 68.1410566,\n",
       " 68.1410566,\n",
       " 68.1410566,\n",
       " 68.1410566,\n",
       " 68.1410566,\n",
       " 68.1410566,\n",
       " 68.1410566,\n",
       " 68.1410566,\n",
       " 68.1410566,\n",
       " 68.1410566,\n",
       " 68.1410566,\n",
       " 68.1410566,\n",
       " 68.1410566,\n",
       " 68.1410566,\n",
       " 68.1410566,\n",
       " 68.1410566,\n",
       " 68.1410566,\n",
       " 68.1410566,\n",
       " 68.1410566,\n",
       " 68.1410566,\n",
       " 68.1410566,\n",
       " 68.1410566,\n",
       " 68.1410566,\n",
       " 68.1410566,\n",
       " 68.1410566,\n",
       " 68.1410566,\n",
       " 68.1410566,\n",
       " 68.1410566,\n",
       " 68.1410566,\n",
       " 68.1410566,\n",
       " 68.1410566,\n",
       " 68.1410566,\n",
       " 68.1410566,\n",
       " 68.1410566,\n",
       " 68.1410566,\n",
       " 68.1410566,\n",
       " 68.1410566,\n",
       " 68.1410566,\n",
       " 68.1410566,\n",
       " 68.1410566,\n",
       " 68.1410566,\n",
       " 68.1410566,\n",
       " 68.1410566,\n",
       " 68.1410566,\n",
       " 68.1410566,\n",
       " 68.1410566,\n",
       " 68.1410566,\n",
       " 68.1410566,\n",
       " 68.1410566,\n",
       " 68.1410566,\n",
       " 68.1410566,\n",
       " 68.1410566,\n",
       " 68.1410566,\n",
       " 68.1410566,\n",
       " 68.1410566,\n",
       " 68.1410566,\n",
       " 68.1410566,\n",
       " 68.1410566,\n",
       " 68.1410566]"
      ]
     },
     "execution_count": 12,
     "metadata": {},
     "output_type": "execute_result"
    }
   ],
   "source": [
    "# calculate y_predict_baseline\n",
    "y_predict_baseline=[y_mean]*len(y_train)\n",
    "y_predict_baseline"
   ]
  },
  {
   "cell_type": "code",
   "execution_count": 32,
   "id": "ea1094f5",
   "metadata": {},
   "outputs": [
    {
     "data": {
      "text/plain": [
       "1.4683458680000003"
      ]
     },
     "execution_count": 32,
     "metadata": {},
     "output_type": "execute_result"
    }
   ],
   "source": [
    "# mean absolute error\n",
    "from sklearn.metrics import mean_absolute_error\n",
    "mae_baseline=mean_absolute_error(y_train,y_predict_baseline)\n",
    "mae_baseline"
   ]
  },
  {
   "cell_type": "code",
   "execution_count": 33,
   "id": "11c21870",
   "metadata": {},
   "outputs": [],
   "source": [
    "from sklearn.linear_model import LinearRegression\n",
    "model=LinearRegression()"
   ]
  },
  {
   "cell_type": "code",
   "execution_count": 34,
   "id": "fcb0dc9a",
   "metadata": {},
   "outputs": [
    {
     "data": {
      "text/html": [
       "<style>#sk-container-id-2 {color: black;}#sk-container-id-2 pre{padding: 0;}#sk-container-id-2 div.sk-toggleable {background-color: white;}#sk-container-id-2 label.sk-toggleable__label {cursor: pointer;display: block;width: 100%;margin-bottom: 0;padding: 0.3em;box-sizing: border-box;text-align: center;}#sk-container-id-2 label.sk-toggleable__label-arrow:before {content: \"▸\";float: left;margin-right: 0.25em;color: #696969;}#sk-container-id-2 label.sk-toggleable__label-arrow:hover:before {color: black;}#sk-container-id-2 div.sk-estimator:hover label.sk-toggleable__label-arrow:before {color: black;}#sk-container-id-2 div.sk-toggleable__content {max-height: 0;max-width: 0;overflow: hidden;text-align: left;background-color: #f0f8ff;}#sk-container-id-2 div.sk-toggleable__content pre {margin: 0.2em;color: black;border-radius: 0.25em;background-color: #f0f8ff;}#sk-container-id-2 input.sk-toggleable__control:checked~div.sk-toggleable__content {max-height: 200px;max-width: 100%;overflow: auto;}#sk-container-id-2 input.sk-toggleable__control:checked~label.sk-toggleable__label-arrow:before {content: \"▾\";}#sk-container-id-2 div.sk-estimator input.sk-toggleable__control:checked~label.sk-toggleable__label {background-color: #d4ebff;}#sk-container-id-2 div.sk-label input.sk-toggleable__control:checked~label.sk-toggleable__label {background-color: #d4ebff;}#sk-container-id-2 input.sk-hidden--visually {border: 0;clip: rect(1px 1px 1px 1px);clip: rect(1px, 1px, 1px, 1px);height: 1px;margin: -1px;overflow: hidden;padding: 0;position: absolute;width: 1px;}#sk-container-id-2 div.sk-estimator {font-family: monospace;background-color: #f0f8ff;border: 1px dotted black;border-radius: 0.25em;box-sizing: border-box;margin-bottom: 0.5em;}#sk-container-id-2 div.sk-estimator:hover {background-color: #d4ebff;}#sk-container-id-2 div.sk-parallel-item::after {content: \"\";width: 100%;border-bottom: 1px solid gray;flex-grow: 1;}#sk-container-id-2 div.sk-label:hover label.sk-toggleable__label {background-color: #d4ebff;}#sk-container-id-2 div.sk-serial::before {content: \"\";position: absolute;border-left: 1px solid gray;box-sizing: border-box;top: 0;bottom: 0;left: 50%;z-index: 0;}#sk-container-id-2 div.sk-serial {display: flex;flex-direction: column;align-items: center;background-color: white;padding-right: 0.2em;padding-left: 0.2em;position: relative;}#sk-container-id-2 div.sk-item {position: relative;z-index: 1;}#sk-container-id-2 div.sk-parallel {display: flex;align-items: stretch;justify-content: center;background-color: white;position: relative;}#sk-container-id-2 div.sk-item::before, #sk-container-id-2 div.sk-parallel-item::before {content: \"\";position: absolute;border-left: 1px solid gray;box-sizing: border-box;top: 0;bottom: 0;left: 50%;z-index: -1;}#sk-container-id-2 div.sk-parallel-item {display: flex;flex-direction: column;z-index: 1;position: relative;background-color: white;}#sk-container-id-2 div.sk-parallel-item:first-child::after {align-self: flex-end;width: 50%;}#sk-container-id-2 div.sk-parallel-item:last-child::after {align-self: flex-start;width: 50%;}#sk-container-id-2 div.sk-parallel-item:only-child::after {width: 0;}#sk-container-id-2 div.sk-dashed-wrapped {border: 1px dashed gray;margin: 0 0.4em 0.5em 0.4em;box-sizing: border-box;padding-bottom: 0.4em;background-color: white;}#sk-container-id-2 div.sk-label label {font-family: monospace;font-weight: bold;display: inline-block;line-height: 1.2em;}#sk-container-id-2 div.sk-label-container {text-align: center;}#sk-container-id-2 div.sk-container {/* jupyter's `normalize.less` sets `[hidden] { display: none; }` but bootstrap.min.css set `[hidden] { display: none !important; }` so we also need the `!important` here to be able to override the default hidden behavior on the sphinx rendered scikit-learn.org. See: https://github.com/scikit-learn/scikit-learn/issues/21755 */display: inline-block !important;position: relative;}#sk-container-id-2 div.sk-text-repr-fallback {display: none;}</style><div id=\"sk-container-id-2\" class=\"sk-top-container\"><div class=\"sk-text-repr-fallback\"><pre>LinearRegression()</pre><b>In a Jupyter environment, please rerun this cell to show the HTML representation or trust the notebook. <br />On GitHub, the HTML representation is unable to render, please try loading this page with nbviewer.org.</b></div><div class=\"sk-container\" hidden><div class=\"sk-item\"><div class=\"sk-estimator sk-toggleable\"><input class=\"sk-toggleable__control sk-hidden--visually\" id=\"sk-estimator-id-2\" type=\"checkbox\" checked><label for=\"sk-estimator-id-2\" class=\"sk-toggleable__label sk-toggleable__label-arrow\">LinearRegression</label><div class=\"sk-toggleable__content\"><pre>LinearRegression()</pre></div></div></div></div></div>"
      ],
      "text/plain": [
       "LinearRegression()"
      ]
     },
     "execution_count": 34,
     "metadata": {},
     "output_type": "execute_result"
    }
   ],
   "source": [
    "model.fit(X_train,y_train)"
   ]
  },
  {
   "cell_type": "code",
   "execution_count": 35,
   "id": "f07181d6",
   "metadata": {},
   "outputs": [
    {
     "data": {
      "text/plain": [
       "array([66.84515777, 68.72266919, 70.04437816, 69.1900013 , 69.34676425,\n",
       "       67.66904029, 69.12281947, 68.7206714 , 66.79559648, 67.45845675,\n",
       "       68.00061027, 66.93709628, 67.85350066, 67.60186644, 67.09241283,\n",
       "       69.00317554, 68.16448537, 69.24097703, 68.83576035, 67.72837479,\n",
       "       69.10571834, 69.28619911, 65.63924178, 68.16451733, 69.15122011,\n",
       "       68.18223378, 69.19704153, 68.32813671, 66.47276086, 66.91705441,\n",
       "       66.07074065, 67.46536113, 67.86771697, 68.70150855, 69.01148637,\n",
       "       68.10426385, 69.14716859, 67.50358294, 68.31196257, 66.34323185,\n",
       "       67.75353901, 67.79343897, 68.97709233, 68.79317536, 66.32232693,\n",
       "       68.10547851, 69.45756993, 67.15094022, 69.29277585, 68.59842235,\n",
       "       69.56450789, 67.91086134, 67.84336785, 67.06219019, 67.68396781,\n",
       "       69.63408708, 70.27386882, 68.05036335, 67.35480318, 68.50910494,\n",
       "       68.10296928, 68.80721586, 68.1851106 , 68.1102812 , 68.62910847,\n",
       "       66.57496004, 69.20062957, 68.42393496, 66.08879272, 67.78311436,\n",
       "       68.14941401, 68.52530306, 69.03509231, 66.0334618 , 68.0860999 ,\n",
       "       67.42904122, 68.8917865 , 68.44058858, 67.0553897 , 67.60683696,\n",
       "       68.57388144, 67.55686013, 70.23215487, 68.11969481, 68.13244074,\n",
       "       68.96128578, 69.0745048 , 68.33144506, 67.49489653, 68.32514002,\n",
       "       68.72751184, 69.12241192, 69.05215347, 66.77713686, 68.48051251,\n",
       "       68.34810667, 67.4074171 , 67.65264239, 68.05587726, 67.0436107 ])"
      ]
     },
     "execution_count": 35,
     "metadata": {},
     "output_type": "execute_result"
    }
   ],
   "source": [
    "y_predict_train=model.predict(X_train)\n",
    "y_predict_train[:]"
   ]
  },
  {
   "cell_type": "code",
   "execution_count": 36,
   "id": "f6f71d9d",
   "metadata": {},
   "outputs": [
    {
     "data": {
      "text/plain": [
       "1.259619080591162"
      ]
     },
     "execution_count": 36,
     "metadata": {},
     "output_type": "execute_result"
    }
   ],
   "source": [
    "mae_predict=mean_absolute_error(y_train,y_predict_train)\n",
    "mae_predict"
   ]
  },
  {
   "cell_type": "code",
   "execution_count": 37,
   "id": "af2e9d57",
   "metadata": {},
   "outputs": [
    {
     "data": {
      "text/plain": [
       "57.81572535134611"
      ]
     },
     "execution_count": 37,
     "metadata": {},
     "output_type": "execute_result"
    }
   ],
   "source": [
    "intercept=model.intercept_\n",
    "intercept"
   ]
  },
  {
   "cell_type": "markdown",
   "id": "1ba19c37",
   "metadata": {},
   "source": [
    "The intercept of the model is 57.81572535134611. This value represents the expected value of the dependent variable (y) when all the independent variables (X) are zero."
   ]
  },
  {
   "cell_type": "code",
   "execution_count": 19,
   "id": "a3a600a0",
   "metadata": {},
   "outputs": [
    {
     "data": {
      "text/plain": [
       "array([0.07991179])"
      ]
     },
     "execution_count": 19,
     "metadata": {},
     "output_type": "execute_result"
    }
   ],
   "source": [
    "coefficient=model.coef_\n",
    "coefficient"
   ]
  },
  {
   "cell_type": "markdown",
   "id": "06045793",
   "metadata": {},
   "source": [
    "The coefficient is an array [0.07991179]. This indicates the slope or weight of the independent variable in the linear regression. It show how much the dependent variable is expected to change when the independent variable increases by one unit. In this case, for every 1 unit increase in the independent variable, the dependent variable is expected to increase by approximately 0.0799. It means there is small positive relationship between the independent variable and the target."
   ]
  },
  {
   "cell_type": "code",
   "execution_count": 20,
   "id": "0a0060be",
   "metadata": {},
   "outputs": [
    {
     "data": {
      "text/plain": [
       "0.28077848720131826"
      ]
     },
     "execution_count": 20,
     "metadata": {},
     "output_type": "execute_result"
    }
   ],
   "source": [
    "R_square=model.score(X_train,y_train)\n",
    "R_square"
   ]
  },
  {
   "cell_type": "markdown",
   "id": "89640ce1",
   "metadata": {},
   "source": [
    "The R-squared value is 0.280, which means that approximately 28.08% of the variance in the dependent variable is explained by the model. This is a measure of how well the independent variables explain the variation in the dependent variable.This R² value is closer to 0,  it means that the model doesn't explain much of the variation in the data."
   ]
  },
  {
   "cell_type": "code",
   "execution_count": null,
   "id": "2a817d0d",
   "metadata": {},
   "outputs": [],
   "source": []
  }
 ],
 "metadata": {
  "kernelspec": {
   "display_name": "Python 3 (ipykernel)",
   "language": "python",
   "name": "python3"
  },
  "language_info": {
   "codemirror_mode": {
    "name": "ipython",
    "version": 3
   },
   "file_extension": ".py",
   "mimetype": "text/x-python",
   "name": "python",
   "nbconvert_exporter": "python",
   "pygments_lexer": "ipython3",
   "version": "3.11.5"
  }
 },
 "nbformat": 4,
 "nbformat_minor": 5
}
